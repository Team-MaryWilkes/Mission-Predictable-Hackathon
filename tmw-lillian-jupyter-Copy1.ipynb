{
 "cells": [
  {
   "cell_type": "code",
   "execution_count": 5,
   "metadata": {},
   "outputs": [],
   "source": [
    "import pandas as pd  \n",
    "import numpy as np \n",
    "import io\n",
    "import os\n",
    "\n",
    "# Sagemaker Python SDK\n",
    "import sagemaker.amazon.common as smac\n",
    "import sagemaker\n",
    "from sagemaker import get_execution_role\n",
    "import boto3\n",
    "\n",
    "\n",
    "import matplotlib.pyplot as plt  \n",
    "from sklearn.model_selection import train_test_split \n",
    "from sklearn.linear_model import LinearRegression\n",
    "from sklearn import metrics\n",
    "%matplotlib inline"
   ]
  },
  {
   "cell_type": "code",
   "execution_count": 81,
   "metadata": {},
   "outputs": [
    {
     "name": "stdout",
     "output_type": "stream",
     "text": [
      "uploaded training data from location: s3://wwcteammarywilkeslillian/combined_male_female.csv\n"
     ]
    }
   ],
   "source": [
    "role = get_execution_role\n",
    "input_bucket = 'wwcteammarywilkeslillian'\n",
    "in_data_key = 'combined_male_female.csv'\n",
    "training_data_location = 's3://{}/{}'.format(input_bucket, in_data_key)\n",
    "df = pd.read_csv(training_data_location, index_col = 0)\n",
    "print('uploaded training data from location: {}'.format(training_data_location))"
   ]
  },
  {
   "cell_type": "markdown",
   "metadata": {},
   "source": [
    "# DATA VISUALIZATION AND STATISTICS"
   ]
  },
  {
   "cell_type": "code",
   "execution_count": 82,
   "metadata": {},
   "outputs": [
    {
     "data": {
      "text/html": [
       "<div>\n",
       "<style scoped>\n",
       "    .dataframe tbody tr th:only-of-type {\n",
       "        vertical-align: middle;\n",
       "    }\n",
       "\n",
       "    .dataframe tbody tr th {\n",
       "        vertical-align: top;\n",
       "    }\n",
       "\n",
       "    .dataframe thead th {\n",
       "        text-align: right;\n",
       "    }\n",
       "</style>\n",
       "<table border=\"1\" class=\"dataframe\">\n",
       "  <thead>\n",
       "    <tr style=\"text-align: right;\">\n",
       "      <th></th>\n",
       "      <th>COUNTY</th>\n",
       "      <th>AGE</th>\n",
       "      <th>GENDER</th>\n",
       "      <th>MONTH</th>\n",
       "      <th>DAY</th>\n",
       "      <th>OUTCOME</th>\n",
       "    </tr>\n",
       "  </thead>\n",
       "  <tbody>\n",
       "    <tr>\n",
       "      <th>0</th>\n",
       "      <td>Alachua</td>\n",
       "      <td>21</td>\n",
       "      <td>Female</td>\n",
       "      <td>3</td>\n",
       "      <td>17</td>\n",
       "      <td>Case</td>\n",
       "    </tr>\n",
       "    <tr>\n",
       "      <th>1</th>\n",
       "      <td>Alachua</td>\n",
       "      <td>50</td>\n",
       "      <td>Female</td>\n",
       "      <td>3</td>\n",
       "      <td>18</td>\n",
       "      <td>Case</td>\n",
       "    </tr>\n",
       "    <tr>\n",
       "      <th>2</th>\n",
       "      <td>Alachua</td>\n",
       "      <td>39</td>\n",
       "      <td>Female</td>\n",
       "      <td>3</td>\n",
       "      <td>18</td>\n",
       "      <td>Case</td>\n",
       "    </tr>\n",
       "    <tr>\n",
       "      <th>3</th>\n",
       "      <td>Alachua</td>\n",
       "      <td>42</td>\n",
       "      <td>Female</td>\n",
       "      <td>3</td>\n",
       "      <td>19</td>\n",
       "      <td>Case</td>\n",
       "    </tr>\n",
       "    <tr>\n",
       "      <th>4</th>\n",
       "      <td>Alachua</td>\n",
       "      <td>27</td>\n",
       "      <td>Female</td>\n",
       "      <td>3</td>\n",
       "      <td>19</td>\n",
       "      <td>Case</td>\n",
       "    </tr>\n",
       "  </tbody>\n",
       "</table>\n",
       "</div>"
      ],
      "text/plain": [
       "    COUNTY  AGE  GENDER  MONTH  DAY OUTCOME\n",
       "0  Alachua   21  Female      3   17    Case\n",
       "1  Alachua   50  Female      3   18    Case\n",
       "2  Alachua   39  Female      3   18    Case\n",
       "3  Alachua   42  Female      3   19    Case\n",
       "4  Alachua   27  Female      3   19    Case"
      ]
     },
     "execution_count": 82,
     "metadata": {},
     "output_type": "execute_result"
    }
   ],
   "source": [
    "#inspect the data\n",
    "df.head()\n"
   ]
  },
  {
   "cell_type": "code",
   "execution_count": 11,
   "metadata": {},
   "outputs": [
    {
     "data": {
      "text/plain": [
       "<matplotlib.axes._subplots.AxesSubplot at 0x7f518c388eb8>"
      ]
     },
     "execution_count": 11,
     "metadata": {},
     "output_type": "execute_result"
    },
    {
     "data": {
      "image/png": "[encoded data removed]",
      "text/plain": [
       "<Figure size 432x288 with 1 Axes>"
      ]
     },
     "metadata": {
      "needs_background": "light"
     },
     "output_type": "display_data"
    }
   ],
   "source": [
    "df.AGE.hist()"
   ]
  },
  {
   "cell_type": "code",
   "execution_count": 12,
   "metadata": {},
   "outputs": [
    {
     "data": {
      "text/plain": [
       "(317756, 6)"
      ]
     },
     "execution_count": 12,
     "metadata": {},
     "output_type": "execute_result"
    }
   ],
   "source": [
    "df.shape"
   ]
  },
  {
   "cell_type": "code",
   "execution_count": 13,
   "metadata": {},
   "outputs": [
    {
     "data": {
      "text/plain": [
       "count    317756.000000\n",
       "mean         42.341183\n",
       "std          20.117551\n",
       "min           0.000000\n",
       "25%          27.000000\n",
       "50%          40.000000\n",
       "75%          56.000000\n",
       "max         119.000000\n",
       "Name: AGE, dtype: float64"
      ]
     },
     "execution_count": 13,
     "metadata": {},
     "output_type": "execute_result"
    }
   ],
   "source": [
    "df['AGE'].describe()"
   ]
  },
  {
   "cell_type": "code",
   "execution_count": 15,
   "metadata": {},
   "outputs": [
    {
     "data": {
      "text/html": [
       "<div>\n",
       "<style scoped>\n",
       "    .dataframe tbody tr th:only-of-type {\n",
       "        vertical-align: middle;\n",
       "    }\n",
       "\n",
       "    .dataframe tbody tr th {\n",
       "        vertical-align: top;\n",
       "    }\n",
       "\n",
       "    .dataframe thead th {\n",
       "        text-align: right;\n",
       "    }\n",
       "</style>\n",
       "<table border=\"1\" class=\"dataframe\">\n",
       "  <thead>\n",
       "    <tr style=\"text-align: right;\">\n",
       "      <th>OUTCOME</th>\n",
       "      <th>Case</th>\n",
       "      <th>Death</th>\n",
       "    </tr>\n",
       "    <tr>\n",
       "      <th>COUNTY</th>\n",
       "      <th></th>\n",
       "      <th></th>\n",
       "    </tr>\n",
       "  </thead>\n",
       "  <tbody>\n",
       "    <tr>\n",
       "      <th>Alachua</th>\n",
       "      <td>2392</td>\n",
       "      <td>12</td>\n",
       "    </tr>\n",
       "    <tr>\n",
       "      <th>Baker</th>\n",
       "      <td>200</td>\n",
       "      <td>4</td>\n",
       "    </tr>\n",
       "    <tr>\n",
       "      <th>Bay</th>\n",
       "      <td>1598</td>\n",
       "      <td>8</td>\n",
       "    </tr>\n",
       "    <tr>\n",
       "      <th>Bradford</th>\n",
       "      <td>173</td>\n",
       "      <td>2</td>\n",
       "    </tr>\n",
       "    <tr>\n",
       "      <th>Brevard</th>\n",
       "      <td>3786</td>\n",
       "      <td>44</td>\n",
       "    </tr>\n",
       "    <tr>\n",
       "      <th>...</th>\n",
       "      <td>...</td>\n",
       "      <td>...</td>\n",
       "    </tr>\n",
       "    <tr>\n",
       "      <th>Unknown</th>\n",
       "      <td>357</td>\n",
       "      <td>0</td>\n",
       "    </tr>\n",
       "    <tr>\n",
       "      <th>Volusia</th>\n",
       "      <td>4545</td>\n",
       "      <td>79</td>\n",
       "    </tr>\n",
       "    <tr>\n",
       "      <th>Wakulla</th>\n",
       "      <td>222</td>\n",
       "      <td>1</td>\n",
       "    </tr>\n",
       "    <tr>\n",
       "      <th>Walton</th>\n",
       "      <td>692</td>\n",
       "      <td>10</td>\n",
       "    </tr>\n",
       "    <tr>\n",
       "      <th>Washington</th>\n",
       "      <td>222</td>\n",
       "      <td>13</td>\n",
       "    </tr>\n",
       "  </tbody>\n",
       "</table>\n",
       "<p>68 rows × 2 columns</p>\n",
       "</div>"
      ],
      "text/plain": [
       "OUTCOME     Case  Death\n",
       "COUNTY                 \n",
       "Alachua     2392     12\n",
       "Baker        200      4\n",
       "Bay         1598      8\n",
       "Bradford     173      2\n",
       "Brevard     3786     44\n",
       "...          ...    ...\n",
       "Unknown      357      0\n",
       "Volusia     4545     79\n",
       "Wakulla      222      1\n",
       "Walton       692     10\n",
       "Washington   222     13\n",
       "\n",
       "[68 rows x 2 columns]"
      ]
     },
     "execution_count": 15,
     "metadata": {},
     "output_type": "execute_result"
    }
   ],
   "source": [
    "county_outcome = pd.crosstab(df.COUNTY,df.OUTCOME)\n",
    "county_outcome"
   ]
  },
  {
   "cell_type": "code",
   "execution_count": 49,
   "metadata": {},
   "outputs": [
    {
     "data": {
      "text/html": [
       "<div>\n",
       "<style scoped>\n",
       "    .dataframe tbody tr th:only-of-type {\n",
       "        vertical-align: middle;\n",
       "    }\n",
       "\n",
       "    .dataframe tbody tr th {\n",
       "        vertical-align: top;\n",
       "    }\n",
       "\n",
       "    .dataframe thead th {\n",
       "        text-align: right;\n",
       "    }\n",
       "</style>\n",
       "<table border=\"1\" class=\"dataframe\">\n",
       "  <thead>\n",
       "    <tr style=\"text-align: right;\">\n",
       "      <th></th>\n",
       "      <th>AGE</th>\n",
       "    </tr>\n",
       "  </thead>\n",
       "  <tbody>\n",
       "    <tr>\n",
       "      <th>count</th>\n",
       "      <td>160076.000000</td>\n",
       "    </tr>\n",
       "    <tr>\n",
       "      <th>mean</th>\n",
       "      <td>42.000981</td>\n",
       "    </tr>\n",
       "    <tr>\n",
       "      <th>std</th>\n",
       "      <td>20.152448</td>\n",
       "    </tr>\n",
       "    <tr>\n",
       "      <th>min</th>\n",
       "      <td>0.000000</td>\n",
       "    </tr>\n",
       "    <tr>\n",
       "      <th>25%</th>\n",
       "      <td>26.000000</td>\n",
       "    </tr>\n",
       "    <tr>\n",
       "      <th>50%</th>\n",
       "      <td>39.000000</td>\n",
       "    </tr>\n",
       "    <tr>\n",
       "      <th>75%</th>\n",
       "      <td>56.000000</td>\n",
       "    </tr>\n",
       "    <tr>\n",
       "      <th>max</th>\n",
       "      <td>119.000000</td>\n",
       "    </tr>\n",
       "  </tbody>\n",
       "</table>\n",
       "</div>"
      ],
      "text/plain": [
       "                 AGE\n",
       "count  160076.000000\n",
       "mean       42.000981\n",
       "std        20.152448\n",
       "min         0.000000\n",
       "25%        26.000000\n",
       "50%        39.000000\n",
       "75%        56.000000\n",
       "max       119.000000"
      ]
     },
     "execution_count": 49,
     "metadata": {},
     "output_type": "execute_result"
    },
    {
     "data": {
      "image/png": "[encoded data removed]",
      "text/plain": [
       "<Figure size 432x288 with 1 Axes>"
      ]
     },
     "metadata": {
      "needs_background": "light"
     },
     "output_type": "display_data"
    }
   ],
   "source": [
    "#extract female cases \n",
    "#first extract gender, outcome, age\n",
    "gender_outcome_df = df[[\"GENDER\", \"OUTCOME\", \"AGE\"]]\n",
    "#then extract rows where GENDER == \"Female\" and OUTCOME == 'Case'\n",
    "female_cases_df = gender_outcome_df.loc[(gender_outcome_df['GENDER'] == 'Female') & (gender_outcome_df['OUTCOME'] == 'Case')]\n",
    "female_cases_df.hist()\n",
    "female_cases_df.shape\n",
    "female_cases_df.head()\n",
    "female_cases_df.describe()\n",
    "\n",
    "\n",
    "\n",
    "\n",
    "\n"
   ]
  },
  {
   "cell_type": "code",
   "execution_count": 52,
   "metadata": {
    "scrolled": false
   },
   "outputs": [
    {
     "data": {
      "text/html": [
       "<div>\n",
       "<style scoped>\n",
       "    .dataframe tbody tr th:only-of-type {\n",
       "        vertical-align: middle;\n",
       "    }\n",
       "\n",
       "    .dataframe tbody tr th {\n",
       "        vertical-align: top;\n",
       "    }\n",
       "\n",
       "    .dataframe thead th {\n",
       "        text-align: right;\n",
       "    }\n",
       "</style>\n",
       "<table border=\"1\" class=\"dataframe\">\n",
       "  <thead>\n",
       "    <tr style=\"text-align: right;\">\n",
       "      <th></th>\n",
       "      <th>AGE</th>\n",
       "    </tr>\n",
       "  </thead>\n",
       "  <tbody>\n",
       "    <tr>\n",
       "      <th>count</th>\n",
       "      <td>2126.000000</td>\n",
       "    </tr>\n",
       "    <tr>\n",
       "      <th>mean</th>\n",
       "      <td>79.544214</td>\n",
       "    </tr>\n",
       "    <tr>\n",
       "      <th>std</th>\n",
       "      <td>13.660925</td>\n",
       "    </tr>\n",
       "    <tr>\n",
       "      <th>min</th>\n",
       "      <td>11.000000</td>\n",
       "    </tr>\n",
       "    <tr>\n",
       "      <th>25%</th>\n",
       "      <td>72.000000</td>\n",
       "    </tr>\n",
       "    <tr>\n",
       "      <th>50%</th>\n",
       "      <td>82.000000</td>\n",
       "    </tr>\n",
       "    <tr>\n",
       "      <th>75%</th>\n",
       "      <td>89.000000</td>\n",
       "    </tr>\n",
       "    <tr>\n",
       "      <th>max</th>\n",
       "      <td>108.000000</td>\n",
       "    </tr>\n",
       "  </tbody>\n",
       "</table>\n",
       "</div>"
      ],
      "text/plain": [
       "               AGE\n",
       "count  2126.000000\n",
       "mean     79.544214\n",
       "std      13.660925\n",
       "min      11.000000\n",
       "25%      72.000000\n",
       "50%      82.000000\n",
       "75%      89.000000\n",
       "max     108.000000"
      ]
     },
     "execution_count": 52,
     "metadata": {},
     "output_type": "execute_result"
    },
    {
     "data": {
      "image/png": "[encoded data removed]",
      "text/plain": [
       "<Figure size 432x288 with 1 Axes>"
      ]
     },
     "metadata": {
      "needs_background": "light"
     },
     "output_type": "display_data"
    }
   ],
   "source": [
    "#extract female deaths \n",
    "#first extract gender, outcome, age\n",
    "gender_outcome_df = df[[\"GENDER\", \"OUTCOME\", \"AGE\"]]\n",
    "#then extract rows where GENDER == \"Female\" and OUTCOME == 'Death'\n",
    "female_deaths_df = gender_outcome_df.loc[(gender_outcome_df['GENDER'] == 'Female') & (gender_outcome_df['OUTCOME'] == 'Death')]\n",
    "female_deaths_df.hist()\n",
    "female_deaths_df.shape\n",
    "female_deaths_df.head()\n",
    "female_deaths_df.describe()"
   ]
  },
  {
   "cell_type": "code",
   "execution_count": 51,
   "metadata": {},
   "outputs": [
    {
     "data": {
      "text/html": [
       "<div>\n",
       "<style scoped>\n",
       "    .dataframe tbody tr th:only-of-type {\n",
       "        vertical-align: middle;\n",
       "    }\n",
       "\n",
       "    .dataframe tbody tr th {\n",
       "        vertical-align: top;\n",
       "    }\n",
       "\n",
       "    .dataframe thead th {\n",
       "        text-align: right;\n",
       "    }\n",
       "</style>\n",
       "<table border=\"1\" class=\"dataframe\">\n",
       "  <thead>\n",
       "    <tr style=\"text-align: right;\">\n",
       "      <th></th>\n",
       "      <th>AGE</th>\n",
       "    </tr>\n",
       "  </thead>\n",
       "  <tbody>\n",
       "    <tr>\n",
       "      <th>count</th>\n",
       "      <td>153012.000000</td>\n",
       "    </tr>\n",
       "    <tr>\n",
       "      <th>mean</th>\n",
       "      <td>41.639832</td>\n",
       "    </tr>\n",
       "    <tr>\n",
       "      <th>std</th>\n",
       "      <td>19.295694</td>\n",
       "    </tr>\n",
       "    <tr>\n",
       "      <th>min</th>\n",
       "      <td>0.000000</td>\n",
       "    </tr>\n",
       "    <tr>\n",
       "      <th>25%</th>\n",
       "      <td>27.000000</td>\n",
       "    </tr>\n",
       "    <tr>\n",
       "      <th>50%</th>\n",
       "      <td>39.000000</td>\n",
       "    </tr>\n",
       "    <tr>\n",
       "      <th>75%</th>\n",
       "      <td>55.000000</td>\n",
       "    </tr>\n",
       "    <tr>\n",
       "      <th>max</th>\n",
       "      <td>105.000000</td>\n",
       "    </tr>\n",
       "  </tbody>\n",
       "</table>\n",
       "</div>"
      ],
      "text/plain": [
       "                 AGE\n",
       "count  153012.000000\n",
       "mean       41.639832\n",
       "std        19.295694\n",
       "min         0.000000\n",
       "25%        27.000000\n",
       "50%        39.000000\n",
       "75%        55.000000\n",
       "max       105.000000"
      ]
     },
     "execution_count": 51,
     "metadata": {},
     "output_type": "execute_result"
    },
    {
     "data": {
      "image/png": "[encoded data removed]",
      "text/plain": [
       "<Figure size 432x288 with 1 Axes>"
      ]
     },
     "metadata": {
      "needs_background": "light"
     },
     "output_type": "display_data"
    }
   ],
   "source": [
    "#extract male cases \n",
    "#first extract gender, outcome, age\n",
    "gender_outcome_df = df[[\"GENDER\", \"OUTCOME\", \"AGE\"]]\n",
    "#then extract rows where GENDER == \"Female\" and OUTCOME == 'Case'\n",
    "male_cases_df = gender_outcome_df.loc[(gender_outcome_df['GENDER'] == 'Male') & (gender_outcome_df['OUTCOME'] == 'Case')]\n",
    "male_cases_df.hist()\n",
    "male_cases_df.shape\n",
    "male_cases_df.head()\n",
    "male_cases_df.describe()"
   ]
  },
  {
   "cell_type": "code",
   "execution_count": 53,
   "metadata": {},
   "outputs": [
    {
     "data": {
      "text/html": [
       "<div>\n",
       "<style scoped>\n",
       "    .dataframe tbody tr th:only-of-type {\n",
       "        vertical-align: middle;\n",
       "    }\n",
       "\n",
       "    .dataframe tbody tr th {\n",
       "        vertical-align: top;\n",
       "    }\n",
       "\n",
       "    .dataframe thead th {\n",
       "        text-align: right;\n",
       "    }\n",
       "</style>\n",
       "<table border=\"1\" class=\"dataframe\">\n",
       "  <thead>\n",
       "    <tr style=\"text-align: right;\">\n",
       "      <th></th>\n",
       "      <th>AGE</th>\n",
       "    </tr>\n",
       "  </thead>\n",
       "  <tbody>\n",
       "    <tr>\n",
       "      <th>count</th>\n",
       "      <td>2542.000000</td>\n",
       "    </tr>\n",
       "    <tr>\n",
       "      <th>mean</th>\n",
       "      <td>74.866640</td>\n",
       "    </tr>\n",
       "    <tr>\n",
       "      <th>std</th>\n",
       "      <td>14.012444</td>\n",
       "    </tr>\n",
       "    <tr>\n",
       "      <th>min</th>\n",
       "      <td>11.000000</td>\n",
       "    </tr>\n",
       "    <tr>\n",
       "      <th>25%</th>\n",
       "      <td>67.000000</td>\n",
       "    </tr>\n",
       "    <tr>\n",
       "      <th>50%</th>\n",
       "      <td>77.000000</td>\n",
       "    </tr>\n",
       "    <tr>\n",
       "      <th>75%</th>\n",
       "      <td>85.000000</td>\n",
       "    </tr>\n",
       "    <tr>\n",
       "      <th>max</th>\n",
       "      <td>103.000000</td>\n",
       "    </tr>\n",
       "  </tbody>\n",
       "</table>\n",
       "</div>"
      ],
      "text/plain": [
       "               AGE\n",
       "count  2542.000000\n",
       "mean     74.866640\n",
       "std      14.012444\n",
       "min      11.000000\n",
       "25%      67.000000\n",
       "50%      77.000000\n",
       "75%      85.000000\n",
       "max     103.000000"
      ]
     },
     "execution_count": 53,
     "metadata": {},
     "output_type": "execute_result"
    },
    {
     "data": {
      "image/png": "[encoded data removed]",
      "text/plain": [
       "<Figure size 432x288 with 1 Axes>"
      ]
     },
     "metadata": {
      "needs_background": "light"
     },
     "output_type": "display_data"
    }
   ],
   "source": [
    "#extract male deaths \n",
    "#first extract gender, outcome, age\n",
    "gender_outcome_df = df[[\"GENDER\", \"OUTCOME\", \"AGE\"]]\n",
    "#then extract rows where GENDER == \"Male\" and OUTCOME == 'Death'\n",
    "male_deaths_df = gender_outcome_df.loc[(gender_outcome_df['GENDER'] == 'Male') & (gender_outcome_df['OUTCOME'] == 'Death')]\n",
    "male_deaths_df.hist()\n",
    "male_deaths_df.shape\n",
    "male_deaths_df.head()\n",
    "male_deaths_df.describe()"
   ]
  },
  {
   "cell_type": "code",
   "execution_count": 61,
   "metadata": {},
   "outputs": [
    {
     "data": {
      "text/plain": [
       "Ttest_indResult(statistic=5.117608124970047, pvalue=3.096169521521241e-07)"
      ]
     },
     "execution_count": 61,
     "metadata": {},
     "output_type": "execute_result"
    }
   ],
   "source": [
    "#independent sample t-test to check if means between ages of female cases and male cases are significantly different\n",
    "# The larger the t score, the more difference there is between groups. \n",
    "# The smaller the t score, the more similarity there is between groups. \n",
    "# A p score of 0.05 indicates a low probability that the differences occured by chance.\n",
    "# Here the results indicate no significant difference between ages of  male and female cases\n",
    "from scipy.stats import ttest_ind\n",
    "\n",
    "cat1 = female_cases_df['AGE']\n",
    "cat2 = male_cases_df['AGE']\n",
    "ttest_ind(cat1, cat2)"
   ]
  },
  {
   "cell_type": "code",
   "execution_count": 62,
   "metadata": {},
   "outputs": [
    {
     "data": {
      "text/plain": [
       "Ttest_indResult(statistic=11.48858052180795, pvalue=3.8162701490960634e-30)"
      ]
     },
     "execution_count": 62,
     "metadata": {},
     "output_type": "execute_result"
    }
   ],
   "source": [
    "# Independent sample t-test to check if means between ages of female deaths and male deaths are signficantly different.\n",
    "# Here the results indicate no significant differences between ages of male and female deaths\n",
    "cat1 = female_deaths_df['AGE']\n",
    "cat2 = male_deaths_df['AGE']\n",
    "ttest_ind(cat1, cat2)"
   ]
  },
  {
   "cell_type": "code",
   "execution_count": 63,
   "metadata": {},
   "outputs": [
    {
     "data": {
      "text/plain": [
       "Ttest_indResult(statistic=-85.63741927331526, pvalue=0.0)"
      ]
     },
     "execution_count": 63,
     "metadata": {},
     "output_type": "execute_result"
    }
   ],
   "source": [
    "# Independent sample t-test to check if means between ages of female deaths and female cases are signficantly different.\n",
    "# Here the results indicate a significant difference between ages of female cases and female deaths\n",
    "cat1 = female_cases_df['AGE']\n",
    "cat2 = female_deaths_df['AGE']\n",
    "ttest_ind(cat1, cat2)"
   ]
  },
  {
   "cell_type": "code",
   "execution_count": 64,
   "metadata": {},
   "outputs": [
    {
     "data": {
      "text/plain": [
       "Ttest_indResult(statistic=-86.44128044574916, pvalue=0.0)"
      ]
     },
     "execution_count": 64,
     "metadata": {},
     "output_type": "execute_result"
    }
   ],
   "source": [
    "# Independent sample t-test to check if means between ages of male deaths and male cases are signficantly different.\n",
    "# Here the results indicate a significant difference between ages of female cases and female deaths\n",
    "cat1 = male_cases_df['AGE']\n",
    "cat2 = male_deaths_df['AGE']\n",
    "ttest_ind(cat1, cat2)"
   ]
  },
  {
   "cell_type": "code",
   "execution_count": 65,
   "metadata": {},
   "outputs": [
    {
     "data": {
      "text/plain": [
       "COUNTY     0\n",
       "AGE        0\n",
       "GENDER     0\n",
       "MONTH      0\n",
       "DAY        0\n",
       "OUTCOME    0\n",
       "dtype: int64"
      ]
     },
     "execution_count": 65,
     "metadata": {},
     "output_type": "execute_result"
    }
   ],
   "source": [
    "#check for null values (There aren't any null values)\n",
    "df.isnull().sum()"
   ]
  },
  {
   "cell_type": "code",
   "execution_count": 66,
   "metadata": {},
   "outputs": [
    {
     "data": {
      "text/plain": [
       "COUNTY     object\n",
       "AGE         int64\n",
       "GENDER     object\n",
       "MONTH       int64\n",
       "DAY         int64\n",
       "OUTCOME    object\n",
       "dtype: object"
      ]
     },
     "execution_count": 66,
     "metadata": {},
     "output_type": "execute_result"
    }
   ],
   "source": [
    "#check the data types (Gender and County need to be converted to numbers)\n",
    "df.dtypes"
   ]
  },
  {
   "cell_type": "code",
   "execution_count": 67,
   "metadata": {},
   "outputs": [
    {
     "name": "stdout",
     "output_type": "stream",
     "text": [
      "<class 'pandas.core.frame.DataFrame'>\n",
      "Int64Index: 317756 entries, 0 to 317755\n",
      "Data columns (total 6 columns):\n",
      " #   Column   Non-Null Count   Dtype \n",
      "---  ------   --------------   ----- \n",
      " 0   COUNTY   317756 non-null  object\n",
      " 1   AGE      317756 non-null  int64 \n",
      " 2   GENDER   317756 non-null  object\n",
      " 3   MONTH    317756 non-null  int64 \n",
      " 4   DAY      317756 non-null  int64 \n",
      " 5   OUTCOME  317756 non-null  object\n",
      "dtypes: int64(3), object(3)\n",
      "memory usage: 27.0+ MB\n"
     ]
    }
   ],
   "source": [
    "#more info about the data\n",
    "df.info()"
   ]
  },
  {
   "cell_type": "code",
   "execution_count": 68,
   "metadata": {},
   "outputs": [
    {
     "data": {
      "image/png": "[encoded data removed]",
      "text/plain": [
       "<Figure size 432x288 with 1 Axes>"
      ]
     },
     "metadata": {},
     "output_type": "display_data"
    }
   ],
   "source": [
    "#More data visualizaton. This pie chart shows the count of all records by county.  \n",
    "#Dade, Broward, Palm Beach and Orange counties have the top three the most records.\n",
    "labels = df['COUNTY'].astype('category').cat.categories.tolist()\n",
    "counts = df['COUNTY'].value_counts()\n",
    "sizes = [counts[var_cat] for var_cat in labels]\n",
    "fig1, ax1 = plt.subplots()\n",
    "ax1.pie(sizes, labels=labels, autopct='%1.1f%%', shadow=True) #autopct is show the % on plot\n",
    "ax1.axis('equal')\n",
    "plt.show()"
   ]
  },
  {
   "cell_type": "code",
   "execution_count": 89,
   "metadata": {},
   "outputs": [
    {
     "name": "stdout",
     "output_type": "stream",
     "text": [
      "<class 'pandas.core.frame.DataFrame'>\n",
      "Int64Index: 317756 entries, 0 to 317755\n",
      "Data columns (total 6 columns):\n",
      " #   Column   Non-Null Count   Dtype   \n",
      "---  ------   --------------   -----   \n",
      " 0   COUNTY   317756 non-null  category\n",
      " 1   AGE      317756 non-null  category\n",
      " 2   GENDER   317756 non-null  category\n",
      " 3   MONTH    317756 non-null  category\n",
      " 4   DAY      317756 non-null  category\n",
      " 5   OUTCOME  317756 non-null  category\n",
      "dtypes: category(6)\n",
      "memory usage: 4.3 MB\n"
     ]
    }
   ],
   "source": [
    "#Cast object type to category type (increases processing speed, reduces memory usage, and needed by encoding step)\n",
    "df = df.astype({\"COUNTY\":'category', \"OUTCOME\":'category', \"GENDER\": 'category', \"AGE\": 'category', \"MONTH\": 'category', \"DAY\": 'category'})\n",
    "df.info()"
   ]
  },
  {
   "cell_type": "markdown",
   "metadata": {},
   "source": [
    "# DATA ENCODING\n",
    "#### A new dataframe is encoded so that the original data is not changed."
   ]
  },
  {
   "cell_type": "code",
   "execution_count": 96,
   "metadata": {},
   "outputs": [
    {
     "data": {
      "text/html": [
       "<div>\n",
       "<style scoped>\n",
       "    .dataframe tbody tr th:only-of-type {\n",
       "        vertical-align: middle;\n",
       "    }\n",
       "\n",
       "    .dataframe tbody tr th {\n",
       "        vertical-align: top;\n",
       "    }\n",
       "\n",
       "    .dataframe thead th {\n",
       "        text-align: right;\n",
       "    }\n",
       "</style>\n",
       "<table border=\"1\" class=\"dataframe\">\n",
       "  <thead>\n",
       "    <tr style=\"text-align: right;\">\n",
       "      <th></th>\n",
       "      <th>GENDER_Male</th>\n",
       "      <th>OUTCOME_Death</th>\n",
       "      <th>COUNTY_Baker</th>\n",
       "      <th>COUNTY_Bay</th>\n",
       "      <th>COUNTY_Bradford</th>\n",
       "      <th>COUNTY_Brevard</th>\n",
       "      <th>COUNTY_Broward</th>\n",
       "      <th>COUNTY_Calhoun</th>\n",
       "      <th>COUNTY_Charlotte</th>\n",
       "      <th>COUNTY_Citrus</th>\n",
       "      <th>...</th>\n",
       "      <th>DAY_23</th>\n",
       "      <th>DAY_24</th>\n",
       "      <th>DAY_25</th>\n",
       "      <th>DAY_26</th>\n",
       "      <th>DAY_27</th>\n",
       "      <th>DAY_28</th>\n",
       "      <th>DAY_29</th>\n",
       "      <th>DAY_30</th>\n",
       "      <th>DAY_31</th>\n",
       "      <th>BIAS</th>\n",
       "    </tr>\n",
       "  </thead>\n",
       "  <tbody>\n",
       "    <tr>\n",
       "      <th>317751</th>\n",
       "      <td>1</td>\n",
       "      <td>1</td>\n",
       "      <td>0</td>\n",
       "      <td>0</td>\n",
       "      <td>0</td>\n",
       "      <td>0</td>\n",
       "      <td>0</td>\n",
       "      <td>0</td>\n",
       "      <td>0</td>\n",
       "      <td>0</td>\n",
       "      <td>...</td>\n",
       "      <td>0</td>\n",
       "      <td>1</td>\n",
       "      <td>0</td>\n",
       "      <td>0</td>\n",
       "      <td>0</td>\n",
       "      <td>0</td>\n",
       "      <td>0</td>\n",
       "      <td>0</td>\n",
       "      <td>0</td>\n",
       "      <td>1.0</td>\n",
       "    </tr>\n",
       "    <tr>\n",
       "      <th>317752</th>\n",
       "      <td>1</td>\n",
       "      <td>1</td>\n",
       "      <td>0</td>\n",
       "      <td>0</td>\n",
       "      <td>0</td>\n",
       "      <td>0</td>\n",
       "      <td>0</td>\n",
       "      <td>0</td>\n",
       "      <td>0</td>\n",
       "      <td>0</td>\n",
       "      <td>...</td>\n",
       "      <td>0</td>\n",
       "      <td>1</td>\n",
       "      <td>0</td>\n",
       "      <td>0</td>\n",
       "      <td>0</td>\n",
       "      <td>0</td>\n",
       "      <td>0</td>\n",
       "      <td>0</td>\n",
       "      <td>0</td>\n",
       "      <td>1.0</td>\n",
       "    </tr>\n",
       "    <tr>\n",
       "      <th>317753</th>\n",
       "      <td>1</td>\n",
       "      <td>1</td>\n",
       "      <td>0</td>\n",
       "      <td>0</td>\n",
       "      <td>0</td>\n",
       "      <td>0</td>\n",
       "      <td>0</td>\n",
       "      <td>0</td>\n",
       "      <td>0</td>\n",
       "      <td>0</td>\n",
       "      <td>...</td>\n",
       "      <td>0</td>\n",
       "      <td>1</td>\n",
       "      <td>0</td>\n",
       "      <td>0</td>\n",
       "      <td>0</td>\n",
       "      <td>0</td>\n",
       "      <td>0</td>\n",
       "      <td>0</td>\n",
       "      <td>0</td>\n",
       "      <td>1.0</td>\n",
       "    </tr>\n",
       "    <tr>\n",
       "      <th>317754</th>\n",
       "      <td>1</td>\n",
       "      <td>1</td>\n",
       "      <td>0</td>\n",
       "      <td>0</td>\n",
       "      <td>0</td>\n",
       "      <td>0</td>\n",
       "      <td>0</td>\n",
       "      <td>0</td>\n",
       "      <td>0</td>\n",
       "      <td>0</td>\n",
       "      <td>...</td>\n",
       "      <td>0</td>\n",
       "      <td>1</td>\n",
       "      <td>0</td>\n",
       "      <td>0</td>\n",
       "      <td>0</td>\n",
       "      <td>0</td>\n",
       "      <td>0</td>\n",
       "      <td>0</td>\n",
       "      <td>0</td>\n",
       "      <td>1.0</td>\n",
       "    </tr>\n",
       "    <tr>\n",
       "      <th>317755</th>\n",
       "      <td>1</td>\n",
       "      <td>1</td>\n",
       "      <td>0</td>\n",
       "      <td>0</td>\n",
       "      <td>0</td>\n",
       "      <td>0</td>\n",
       "      <td>0</td>\n",
       "      <td>0</td>\n",
       "      <td>0</td>\n",
       "      <td>0</td>\n",
       "      <td>...</td>\n",
       "      <td>0</td>\n",
       "      <td>0</td>\n",
       "      <td>0</td>\n",
       "      <td>0</td>\n",
       "      <td>0</td>\n",
       "      <td>1</td>\n",
       "      <td>0</td>\n",
       "      <td>0</td>\n",
       "      <td>0</td>\n",
       "      <td>1.0</td>\n",
       "    </tr>\n",
       "  </tbody>\n",
       "</table>\n",
       "<p>5 rows × 213 columns</p>\n",
       "</div>"
      ],
      "text/plain": [
       "        GENDER_Male  OUTCOME_Death  COUNTY_Baker  COUNTY_Bay  COUNTY_Bradford  \\\n",
       "317751            1              1             0           0                0   \n",
       "317752            1              1             0           0                0   \n",
       "317753            1              1             0           0                0   \n",
       "317754            1              1             0           0                0   \n",
       "317755            1              1             0           0                0   \n",
       "\n",
       "        COUNTY_Brevard  COUNTY_Broward  COUNTY_Calhoun  COUNTY_Charlotte  \\\n",
       "317751               0               0               0                 0   \n",
       "317752               0               0               0                 0   \n",
       "317753               0               0               0                 0   \n",
       "317754               0               0               0                 0   \n",
       "317755               0               0               0                 0   \n",
       "\n",
       "        COUNTY_Citrus  ...  DAY_23  DAY_24  DAY_25  DAY_26  DAY_27  DAY_28  \\\n",
       "317751              0  ...       0       1       0       0       0       0   \n",
       "317752              0  ...       0       1       0       0       0       0   \n",
       "317753              0  ...       0       1       0       0       0       0   \n",
       "317754              0  ...       0       1       0       0       0       0   \n",
       "317755              0  ...       0       0       0       0       0       1   \n",
       "\n",
       "        DAY_29  DAY_30  DAY_31  BIAS  \n",
       "317751       0       0       0   1.0  \n",
       "317752       0       0       0   1.0  \n",
       "317753       0       0       0   1.0  \n",
       "317754       0       0       0   1.0  \n",
       "317755       0       0       0   1.0  \n",
       "\n",
       "[5 rows x 213 columns]"
      ]
     },
     "execution_count": 96,
     "metadata": {},
     "output_type": "execute_result"
    }
   ],
   "source": [
    "#convert category data type to encoded columns\n",
    "#GENDER and OUTCOME\n",
    "df_encoded = pd.get_dummies(df[['GENDER', 'OUTCOME', 'COUNTY', 'AGE', 'MONTH', 'DAY']], drop_first=True, sparse = True)\n",
    "#Add a bias so that any model is not confined to passing through the origin\n",
    "df_encoded['BIAS'] = np.ones(df_encoded.shape[0])\n",
    "df_encoded.head()\n",
    "df_encoded.tail()\n"
   ]
  },
  {
   "cell_type": "markdown",
   "metadata": {},
   "source": [
    "### NOTE:  WHEN ENCODING CATEGORY DATA, A COLUMN FOR EACH CATEGORY WAS DROPPED.\n",
    "#### IT MAY BE NECESSARY TO DROP COLUMNS WHEN ENCODING FOR MULTIPLE LINEAR REGRESSION MODELLING.\n",
    "#### ALSO:  DAY AND MONTH ARE CYCLICAL VALUES AND MAY NEED TO BE REPLACED WITH SIN AND COSINE VALUES\n",
    "#### ALSO:  AGE IS NUMERICAL IMPLYING AN ORDINAL RELATIONSHIP.  HOWEVER, IN THIS USE CASE, AGE IS NOMINAL AND WAS ENCODED."
   ]
  },
  {
   "cell_type": "code",
   "execution_count": null,
   "metadata": {},
   "outputs": [],
   "source": [
    "#shuffle the data\n",
    "#split into training and testing sets\n",
    "#run multiple linear regression model\n",
    "#assess model\n"
   ]
  }
 ],
 "metadata": {
  "kernelspec": {
   "display_name": "conda_python3",
   "language": "python",
   "name": "conda_python3"
  },
  "language_info": {
   "codemirror_mode": {
    "name": "ipython",
    "version": 3
   },
   "file_extension": ".py",
   "mimetype": "text/x-python",
   "name": "python",
   "nbconvert_exporter": "python",
   "pygments_lexer": "ipython3",
   "version": "3.6.10"
  }
 },
 "nbformat": 4,
 "nbformat_minor": 4
}
